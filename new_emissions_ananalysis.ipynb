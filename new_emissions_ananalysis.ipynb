{
 "cells": [
  {
   "cell_type": "code",
   "execution_count": null,
   "id": "0febca8b",
   "metadata": {},
   "outputs": [],
   "source": [
    "import matplotlib.pyplot as plt\n",
    "import pandas as pd\n",
    "import numpy as np\n",
    "import scipy.stats as st\n",
    "from scipy.stats import linregress\n",
    "\n",
    "# Study data files\n",
    "emissions_data = \"data/GCB2022v27_MtCO2_flat 2.csv\"\n",
    "\n",
    "\n",
    "\n",
    "\n",
    "# Read the mouse data and the study results\n",
    "emission_data = pd.read_csv(emissions_data)\n",
    "\n",
    "\n",
    "\n",
    "#demographics\n",
    "emission_data.head()"
   ]
  },
  {
   "cell_type": "code",
   "execution_count": null,
   "id": "b4a2a498",
   "metadata": {},
   "outputs": [],
   "source": [
    "emission_data.drop ([\"Per Capita\"], axis=1, inplace=True)\n",
    "emission_data.head()"
   ]
  },
  {
   "cell_type": "code",
   "execution_count": null,
   "id": "324c0a7f",
   "metadata": {},
   "outputs": [],
   "source": [
    "emission_data = emission_data.rename(\n",
    "    columns={\n",
    "\n",
    "        \"ISO 3166-1 alpha-3\": \"iso_code\"\n",
    "    })\n",
    "emission_data.head()"
   ]
  },
  {
   "cell_type": "code",
   "execution_count": null,
   "id": "414449df",
   "metadata": {},
   "outputs": [],
   "source": [
    "df_new = emission_data[emission_data['Year']>=1990]\n",
    "df_new"
   ]
  },
  {
   "cell_type": "code",
   "execution_count": null,
   "id": "5fe016ff",
   "metadata": {},
   "outputs": [],
   "source": [
    "df = df_new.dropna()"
   ]
  },
  {
   "cell_type": "code",
   "execution_count": null,
   "id": "ee246294",
   "metadata": {},
   "outputs": [],
   "source": [
    "df['Country'].unique()"
   ]
  },
  {
   "cell_type": "code",
   "execution_count": null,
   "id": "9e30f1b1",
   "metadata": {},
   "outputs": [],
   "source": [
    "df"
   ]
  },
  {
   "cell_type": "code",
   "execution_count": null,
   "id": "d9708c58",
   "metadata": {},
   "outputs": [],
   "source": [
    "df['Country'].count()"
   ]
  },
  {
   "cell_type": "code",
   "execution_count": null,
   "id": "950a01e9",
   "metadata": {},
   "outputs": [],
   "source": [
    "df.to_csv(\"data/emissions_data.csv\", index=False, header=True)"
   ]
  },
  {
   "cell_type": "code",
   "execution_count": null,
   "id": "af53d230",
   "metadata": {},
   "outputs": [],
   "source": []
  }
 ],
 "metadata": {
  "kernelspec": {
   "display_name": "PythonData",
   "language": "python",
   "name": "pythondata"
  },
  "language_info": {
   "codemirror_mode": {
    "name": "ipython",
    "version": 3
   },
   "file_extension": ".py",
   "mimetype": "text/x-python",
   "name": "python",
   "nbconvert_exporter": "python",
   "pygments_lexer": "ipython3",
   "version": "3.7.7"
  }
 },
 "nbformat": 4,
 "nbformat_minor": 5
}
